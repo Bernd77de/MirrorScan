{
 "cells": [
  {
   "cell_type": "code",
   "execution_count": 22,
   "metadata": {},
   "outputs": [],
   "source": [
    "import os\n",
    "import numpy as np\n",
    "from matplotlib import pyplot as plt"
   ]
  },
  {
   "cell_type": "markdown",
   "metadata": {},
   "source": [
    "## Create a test file"
   ]
  },
  {
   "cell_type": "code",
   "execution_count": 23,
   "metadata": {},
   "outputs": [],
   "source": [
    "X = np.random.rand(11,7)\n",
    "X = X.flatten()\n",
    "Y = np.random.rand(11,7)\n",
    "Y = Y.flatten()\n",
    "Z = np.random.rand(11,7)\n",
    "Z = Z.flatten()\n",
    "O1 = np.random.rand(11,7)\n",
    "O1 = O1.flatten()\n",
    "O2 = np.random.rand(11,7)\n",
    "O2 = O2.flatten()\n",
    "O3 = np.random.rand(11,7)\n",
    "O3 = O3.flatten()\n",
    "O4 = np.random.rand(11,7)\n",
    "O4 = O4.flatten()\n",
    "\n",
    "M = np.array([X,Y,Z,O1,O2,O3,O4])\n",
    "np.savetxt(f'test.dat', M.T,\n",
    "            header='\\n'.join([f'SizeX = {11000}', f'SizeY = {7000}',f'SizeZ = {0}',\n",
    "            f'StepX = {1000}',f'StepY = {1000}',f'StepZ = {1000}']))\n"
   ]
  },
  {
   "cell_type": "markdown",
   "metadata": {},
   "source": [
    "## Read it back\n",
    "### Test the header comments"
   ]
  },
  {
   "cell_type": "code",
   "execution_count": 24,
   "metadata": {},
   "outputs": [
    {
     "name": "stdout",
     "output_type": "stream",
     "text": [
      "Header data:\n",
      "SizeX = 11000\n",
      "SizeY = 7000\n",
      "SizeZ = 0\n",
      "StepX = 1000\n",
      "StepY = 1000\n",
      "StepZ = 1000\n"
     ]
    }
   ],
   "source": [
    "current_folder = os.getcwd()\n",
    "file_path = os.path.join(current_folder,'test.dat')\n",
    "\n",
    "nlines = 6\n",
    "with open(file_path, 'r') as file: header_lines = [file.readline().strip() for _ in range(nlines)]  # Assuming 2 header lines\n",
    "\n",
    "print(\"Header data:\")\n",
    "for header_line in header_lines:\n",
    "    idx = header_line.find(\"=\")\n",
    "    print(f'{header_line[2:idx-1]} = {header_line[idx+2:]}')"
   ]
  },
  {
   "cell_type": "markdown",
   "metadata": {},
   "source": [
    "## Define MirrorScan class"
   ]
  },
  {
   "cell_type": "code",
   "execution_count": 8,
   "metadata": {},
   "outputs": [],
   "source": [
    "class MirrorScan:\n",
    "    def __init__(self):\n",
    "        # Parameters\n",
    "        self.center_point = None\n",
    "        self.step_sizeX = None\n",
    "        self.step_sizeY = None\n",
    "        self.step_sizeZ = None\n",
    "\n",
    "        self.sizeX = None\n",
    "        self.sizeY = None\n",
    "        self.sizeZ = None\n",
    "\n",
    "        self.Nx = None\n",
    "        self.Ny = None\n",
    "        self.Nz = None\n",
    "\n",
    "        # Data\n",
    "        self.O1A = []\n",
    "        self.O2A = []\n",
    "        self.O3A = []\n",
    "        self.O4A = []\n",
    "\n",
    "        self.X = []\n",
    "        self.Y = []\n",
    "        self.Z = []\n",
    "\n",
    "    def recalc_size(self):\n",
    "        self.Nx = int(self.sizeX/self.step_sizeX)\n",
    "        self.Ny = int(self.sizeY/self.step_sizeY)\n",
    "        self.Nz = int(self.sizeZ/self.step_sizeZ)\n",
    "        if self.Nz == 0:\n",
    "            self.Nz = 1\n",
    "        else:\n",
    "            self.Nz = int(self.sizeZ/self.step_sizeZ)\n",
    "\n",
    "    def create_array(self):\n",
    "        self.O1A = np.zeros((self.Nz,self.Nx,self.Ny))\n",
    "        self.O2A = np.zeros((self.Nz,self.Nx,self.Ny))\n",
    "        self.O3A = np.zeros((self.Nz,self.Nx,self.Ny))\n",
    "        self.O4A = np.zeros((self.Nz,self.Nx,self.Ny))\n",
    "\n",
    "        self.X = np.zeros((self.Nz,self.Nx,self.Ny))\n",
    "        self.Y = np.zeros((self.Nz,self.Nx,self.Ny))\n",
    "        self.Z = np.zeros((self.Nz,self.Nx,self.Ny))"
   ]
  },
  {
   "cell_type": "code",
   "execution_count": 19,
   "metadata": {},
   "outputs": [
    {
     "data": {
      "image/png": "[encoded data removed]",
      "text/plain": [
       "<Figure size 640x480 with 1 Axes>"
      ]
     },
     "metadata": {},
     "output_type": "display_data"
    }
   ],
   "source": [
    "# Create a MirrorScan object\n",
    "scan = MirrorScan()\n",
    "for header_line in header_lines:\n",
    "    idx = header_line.find(\"=\")\n",
    "    text = header_line[2:idx-1]\n",
    "    number = int(header_line[idx+2:])\n",
    "    if text == 'SizeX':\n",
    "        scan.sizeX = number\n",
    "    elif text == 'SizeY':\n",
    "        scan.sizeY = number\n",
    "    elif text == 'SizeZ':\n",
    "        scan.sizeZ = number\n",
    "    elif text == 'StepX':\n",
    "        scan.step_sizeX = number\n",
    "    elif text == 'StepY':\n",
    "        scan.step_sizeY = number\n",
    "    elif text == 'StepZ':\n",
    "        scan.step_sizeZ = number\n",
    "\n",
    "scan.recalc_size()\n",
    "\n",
    "data = np.loadtxt(file_path, skiprows=len(header_lines))\n",
    "\n",
    "scan.X = data[:,0]\n",
    "scan.X = np.reshape(scan.X,(scan.Nz,scan.Nx,scan.Ny))\n",
    "scan.Y = data[:,1]\n",
    "scan.Y = np.reshape(scan.Y,(scan.Nz,scan.Nx,scan.Ny))\n",
    "scan.Z = data[:,2]\n",
    "scan.Z = np.reshape(scan.Z,(scan.Nz,scan.Nx,scan.Ny))\n",
    "scan.O1A = data[:,3]\n",
    "scan.O1A = np.reshape(scan.O1A,(scan.Nz,scan.Nx,scan.Ny))\n",
    "scan.O2A = data[:,4]\n",
    "scan.O2A = np.reshape(scan.O2A,(scan.Nz,scan.Nx,scan.Ny))\n",
    "scan.O3A = data[:,5]\n",
    "scan.O3A = np.reshape(scan.O3A,(scan.Nz,scan.Nx,scan.Ny))\n",
    "scan.O4A = data[:,6]\n",
    "scan.O4A = np.reshape(scan.O4A,(scan.Nz,scan.Nx,scan.Ny))\n",
    "\n",
    "data_to_plot = scan.O2A[0,:,:]\n",
    "\n",
    "plt.imshow(data_to_plot)\n",
    "plt.show()"
   ]
  },
  {
   "cell_type": "markdown",
   "metadata": {},
   "source": [
    "## Read a real measurement file and plot"
   ]
  },
  {
   "cell_type": "code",
   "execution_count": 26,
   "metadata": {},
   "outputs": [
    {
     "name": "stdout",
     "output_type": "stream",
     "text": [
      "Header data:\n",
      "SizeX = 31000\n",
      "SizeY = 31000\n",
      "SizeZ = 0\n",
      "StepX = 3000\n",
      "StepY = 3000\n",
      "StepZ = 1000\n"
     ]
    },
    {
     "data": {
      "image/png": "[encoded data removed]",
      "text/plain": [
       "<Figure size 640x480 with 1 Axes>"
      ]
     },
     "metadata": {},
     "output_type": "display_data"
    }
   ],
   "source": [
    "current_folder = os.getcwd()\n",
    "file_path = os.path.join(current_folder,'2023.12.02-20.18_2D_Mirror_scan_31.0x31.0_3.0um.dat')\n",
    "\n",
    "nlines = 6\n",
    "with open(file_path, 'r') as file: header_lines = [file.readline().strip() for _ in range(nlines)]\n",
    "\n",
    "print(\"Header data:\")\n",
    "for header_line in header_lines:\n",
    "    idx = header_line.find(\"=\")\n",
    "    print(f'{header_line[2:idx-1]} = {header_line[idx+2:]}')\n",
    "\n",
    "scan = MirrorScan()\n",
    "for header_line in header_lines:\n",
    "    idx = header_line.find(\"=\")\n",
    "    text = header_line[2:idx-1]\n",
    "    number = int(header_line[idx+2:])\n",
    "    if text == 'SizeX':\n",
    "        scan.sizeX = number\n",
    "    elif text == 'SizeY':\n",
    "        scan.sizeY = number\n",
    "    elif text == 'SizeZ':\n",
    "        scan.sizeZ = number\n",
    "    elif text == 'StepX':\n",
    "        scan.step_sizeX = number\n",
    "    elif text == 'StepY':\n",
    "        scan.step_sizeY = number\n",
    "    elif text == 'StepZ':\n",
    "        scan.step_sizeZ = number\n",
    "\n",
    "scan.recalc_size()\n",
    "\n",
    "data = np.loadtxt(file_path, skiprows=len(header_lines))\n",
    "\n",
    "scan.X = np.reshape(data[:,0],(scan.Nz,scan.Nx,scan.Ny))\n",
    "scan.Y = np.reshape(data[:,1],(scan.Nz,scan.Nx,scan.Ny))\n",
    "scan.Z = np.reshape(data[:,2],(scan.Nz,scan.Nx,scan.Ny))\n",
    "scan.O1A = np.reshape(data[:,3],(scan.Nz,scan.Nx,scan.Ny))\n",
    "scan.O2A = np.reshape(data[:,4],(scan.Nz,scan.Nx,scan.Ny))\n",
    "scan.O3A = np.reshape(data[:,5],(scan.Nz,scan.Nx,scan.Ny))\n",
    "scan.O4A = np.reshape(data[:,6],(scan.Nz,scan.Nx,scan.Ny))\n",
    "\n",
    "data_to_plot = scan.O2A[0,:,:]\n",
    "\n",
    "plt.imshow(data_to_plot)\n",
    "plt.show()"
   ]
  }
 ],
 "metadata": {
  "kernelspec": {
   "display_name": "Python 3",
   "language": "python",
   "name": "python3"
  },
  "language_info": {
   "codemirror_mode": {
    "name": "ipython",
    "version": 3
   },
   "file_extension": ".py",
   "mimetype": "text/x-python",
   "name": "python",
   "nbconvert_exporter": "python",
   "pygments_lexer": "ipython3",
   "version": "3.12.0"
  }
 },
 "nbformat": 4,
 "nbformat_minor": 2
}
